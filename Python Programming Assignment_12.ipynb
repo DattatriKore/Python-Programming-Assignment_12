{
 "cells": [
  {
   "cell_type": "code",
   "execution_count": 1,
   "id": "8793f810",
   "metadata": {},
   "outputs": [
    {
     "name": "stdout",
     "output_type": "stream",
     "text": [
      "The original dictionary is: {'dk': [5, 6, 7, 8], 'uk': [10, 11, 7, 5], 'lk': [6, 12, 10, 8], 'rk': [1, 2, 5]}\n",
      "_ _ _ _ _ _\n",
      "The unique values is: [1, 2, 5, 6, 7, 8, 10, 11, 12]\n"
     ]
    }
   ],
   "source": [
    "# Q.[1] : Write a Python program to Extract Unique values dictionary values?\n",
    "\n",
    "test_dict = {'dk' : [5, 6, 7, 8],\n",
    "            'uk' : [10, 11, 7, 5],\n",
    "            'lk' : [6, 12, 10, 8],\n",
    "            'rk' : [1, 2, 5]}\n",
    "\n",
    "print(f\"The original dictionary is: {test_dict}\")\n",
    "x=[]\n",
    "for i in test_dict.keys():\n",
    "    x.extend(test_dict[i])\n",
    "x=list(set(x))\n",
    "x.sort()\n",
    "print(\"_ _ _ _ _ _\")\n",
    "print(f\"The unique values is: {x}\")"
   ]
  },
  {
   "cell_type": "code",
   "execution_count": 2,
   "id": "b1d3994f",
   "metadata": {},
   "outputs": [
    {
     "name": "stdout",
     "output_type": "stream",
     "text": [
      "sum of all items in a dictionary is: 600\n"
     ]
    }
   ],
   "source": [
    "# Q.[2] : Write a Python program to find the sum of all items in a dictionary?\n",
    "\n",
    "def all_sum(dic):\n",
    "    sum = 0\n",
    "    for i in dic.values():\n",
    "        sum = sum + i\n",
    "    return sum\n",
    "dic = {'a': 100, 'b': 200, 'c': 300}\n",
    "print(f\"sum of all items in a dictionary is: {all_sum(dic)}\")"
   ]
  },
  {
   "cell_type": "code",
   "execution_count": 3,
   "id": "274ec176",
   "metadata": {},
   "outputs": [
    {
     "name": "stdout",
     "output_type": "stream",
     "text": [
      "{'x': 10, 'y': 8, 'a': 6, 'b': 4}\n"
     ]
    }
   ],
   "source": [
    "# Q.[3] : Write a Python program to Merging two Dictionaries?\n",
    "\n",
    "def Merge(dict1, dict2):\n",
    "    res = dict1 | dict2\n",
    "    return res\n",
    "       \n",
    "dict1 = {'x': 10, 'y': 8}\n",
    "dict2 = {'a': 6, 'b': 4}\n",
    "dict3 = Merge(dict1, dict2)\n",
    "print(dict3)"
   ]
  },
  {
   "cell_type": "code",
   "execution_count": 4,
   "id": "f8df0d0c",
   "metadata": {},
   "outputs": [
    {
     "name": "stdout",
     "output_type": "stream",
     "text": [
      "Original dictionary:  {'day': [1, 2, 3], 'name': ['Mon', 'Tues', 'Wed']}\n",
      "_ _ _ _\n",
      "FLATTENED DICTIONARY:  {1: 'Mon', 2: 'Tues', 3: 'Wed'}\n"
     ]
    }
   ],
   "source": [
    "# Q.[4] : Write a Python program to convert key-values list to flat dictionary?\n",
    "\n",
    "dic= { \"day\": [1, 2, 3], \"name\": ['Mon', 'Tues', 'Wed' ] }\n",
    "print(\"Original dictionary: \",dic)\n",
    "print(\"_ _ _ _\")\n",
    "f_dic= dict(zip(dic[\"day\"], dic[\"name\"]))\n",
    "print(\"FLATTENED DICTIONARY: \", f_dic)"
   ]
  },
  {
   "cell_type": "code",
   "execution_count": 5,
   "id": "dda966ef",
   "metadata": {},
   "outputs": [
    {
     "name": "stdout",
     "output_type": "stream",
     "text": [
      "OrderedDict([('D', '400'), ('A', '100'), ('B', '200'), ('C', '300')])\n"
     ]
    }
   ],
   "source": [
    "# Q.[5] : Write a Python program to insertion at the beginning in OrderedDict?\n",
    "\n",
    "from collections import OrderedDict\n",
    "dic1 = OrderedDict([('A', '100'), ('B', '200'), ('C', '300')])\n",
    "insrt = OrderedDict([(\"D\", '400')]) \n",
    "final = OrderedDict(list(insrt.items()) + list(dic1.items()))\n",
    "print(final)"
   ]
  },
  {
   "cell_type": "code",
   "execution_count": 4,
   "id": "58006a00",
   "metadata": {},
   "outputs": [
    {
     "name": "stdout",
     "output_type": "stream",
     "text": [
      "False\n",
      "True\n"
     ]
    }
   ],
   "source": [
    "# Q.[6] : Write a Python program to check order of character in string using OrderedDict()?\n",
    "\n",
    "from collections import OrderedDict \n",
    "def checkOrder(string, pattern): \n",
    "    dic = OrderedDict.fromkeys(string) \n",
    "    ptr = 0\n",
    "    for key,value in dic.items(): \n",
    "        if (key == pattern[ptr]): \n",
    "            ptr = ptr + 1\n",
    "        if (ptr == (len(pattern))): \n",
    "            return 'True'\n",
    "    return 'False'\n",
    "\n",
    "string = 'how are you'\n",
    "pattern = 'uaw'\n",
    "print (checkOrder(string,pattern))\n",
    "\n",
    "string2= 'Welcome'\n",
    "pattern2= 'cm'\n",
    "print (checkOrder(string2,pattern2)) "
   ]
  },
  {
   "cell_type": "code",
   "execution_count": 5,
   "id": "c6031891",
   "metadata": {},
   "outputs": [
    {
     "name": "stdout",
     "output_type": "stream",
     "text": [
      "OrderedDict([('rajnish', '9'), ('ravi', '10'), ('sanjeev', '15'), ('suraj', '32'), ('yash', '2')])\n"
     ]
    }
   ],
   "source": [
    "# Q.[7] : Write a Python program to sort Python Dictionaries by Key or Value?\n",
    "\n",
    "from collections import OrderedDict\n",
    "dict = {'ravi': '10', 'rajnish': '9','sanjeev': '15', 'yash': '2', 'suraj': '32'}\n",
    "dict1 = OrderedDict(sorted(dict.items()))\n",
    "print(dict1)"
   ]
  },
  {
   "cell_type": "code",
   "execution_count": null,
   "id": "bd5be7b0",
   "metadata": {},
   "outputs": [],
   "source": []
  }
 ],
 "metadata": {
  "kernelspec": {
   "display_name": "Python 3 (ipykernel)",
   "language": "python",
   "name": "python3"
  },
  "language_info": {
   "codemirror_mode": {
    "name": "ipython",
    "version": 3
   },
   "file_extension": ".py",
   "mimetype": "text/x-python",
   "name": "python",
   "nbconvert_exporter": "python",
   "pygments_lexer": "ipython3",
   "version": "3.9.12"
  }
 },
 "nbformat": 4,
 "nbformat_minor": 5
}
